{
 "cells": [
  {
   "cell_type": "markdown",
   "metadata": {},
   "source": [
    "# Fuzzy Logic dengan Python"
   ]
  },
  {
   "cell_type": "markdown",
   "metadata": {},
   "source": [
    "NAMA  : Raden Ayu Tamara SN<br>\n",
    "NIM   : 09011181722007<br>\n",
    "KELAS : SK5A<br>\n",
    "MK    : KECERDASAN BUATAN<br>"
   ]
  },
  {
   "cell_type": "markdown",
   "metadata": {},
   "source": [
    "Sumber:<br>\n",
    "https://ojs.unpkediri.ac.id/index.php/ti/article/view/246"
   ]
  },
  {
   "cell_type": "markdown",
   "metadata": {},
   "source": [
    "<div style=\"text-align: justify\">SDN Sonopatik 1 Nganjuk adalah sebuah instansi pendidikan yang sudah berdiri sejak tahun 1972, sekarang memiliki dua kelas yaitu kelas biasa dan kelas khusus, kelas biasa dimaksudkan untuk anak yang memenuhi syarat akademis dan kelas khusus yang dimaksudkan untuk anak yang tidak memenuhi persyaratan akademis.\n",
    " Teknologi pendaftaran khususnya dalam memilah data murid memerlukan adanya sebuah sistem pendukung keputusan (SPK) yang bisa memilah data secara otomatis ketika ada data yang di masukkan. Sistem pendukung keputusan selalu membutuhkan metode yang tepat. Fuzzy banyak digunakan dalam pendukung pengambilan keputusan. \n"
   ]
  },
  {
   "cell_type": "markdown",
   "metadata": {},
   "source": [
    "Pada bagian ini menjelaskan tentang perancangan dari sistem fuzzy yang akan digunakan untuk proses penerimaan siswa baru. Secara garis besar, proses penerimaan siswa baru pada sistem yang akan dibangun diawali dengan pengisian data siswa dan data nilai dan hasil tes dari siswa yang kemudian akan di proses oleh fuzzy untuk menghasilkan nilai output yang menjadi nilai akhir siswa masuk kelas mana."
   ]
  },
  {
   "cell_type": "markdown",
   "metadata": {},
   "source": [
    "Input :\n",
    "Umur dibagi menjadi 3 bagian yakni :\n",
    "- Kurang (2 - 6 Tahun)\n",
    "- Cukup (4 - 8 Tahun)\n",
    "- Lebih (6 - 10 Tahun)\n",
    "\n",
    "Nilai dibagi menjadi 3 bagian yakni:\n",
    "- Kurang (0 - 40)\n",
    "- Cukup (20 - 60)\n",
    "- Bagus (80 - 100)\n",
    "\n",
    "Output : \n",
    "Kelas yang dibagi menjadi 2 bagian yakni :\n",
    "- Biasa (0 - 60)\n",
    "- Khusus (50 - 100)"
   ]
  },
  {
   "cell_type": "markdown",
   "metadata": {},
   "source": [
    "### Mengimpor library untuk fuzzy\n",
    "Library yang akan digunakan adalah numpy, skfuzzy, dan matplotlib.pyplot. Selain itu kita juga menggunakan fungsi control dari library skfuzzy."
   ]
  },
  {
   "cell_type": "code",
   "execution_count": 7,
   "metadata": {},
   "outputs": [],
   "source": [
    "import numpy as np\n",
    "import skfuzzy as fuzz\n",
    "import matplotlib.pyplot as plt\n",
    "from skfuzzy import control as ctrl"
   ]
  },
  {
   "cell_type": "markdown",
   "metadata": {},
   "source": [
    "# Fuzzyfikasi"
   ]
  },
  {
   "cell_type": "markdown",
   "metadata": {},
   "source": [
    "### Menentukan variabel input"
   ]
  },
  {
   "cell_type": "markdown",
   "metadata": {},
   "source": [
    "Data umur dan nilai untuk program pendaftaran siswa baru yang akan di buat."
   ]
  },
  {
   "cell_type": "code",
   "execution_count": 30,
   "metadata": {},
   "outputs": [],
   "source": [
    "umur = ctrl.Antecedent(np.arange(1,11,1),'umur')\n",
    "nilai = ctrl.Antecedent(np.arange(0,100,1),'nilai')"
   ]
  },
  {
   "cell_type": "markdown",
   "metadata": {},
   "source": [
    "### Menentukan variabel output"
   ]
  },
  {
   "cell_type": "markdown",
   "metadata": {},
   "source": [
    "Pada bagian pengelompokan kelas untuk siswa baru dengan acuan nilai sekolah"
   ]
  },
  {
   "cell_type": "code",
   "execution_count": 31,
   "metadata": {},
   "outputs": [],
   "source": [
    "kelas = ctrl.Consequent(np.arange(0,101,1),'kelas')"
   ]
  },
  {
   "cell_type": "markdown",
   "metadata": {},
   "source": [
    "### Nilai Linguistik"
   ]
  },
  {
   "cell_type": "markdown",
   "metadata": {},
   "source": [
    "a. Nilai Linguistik pada Variabel Umur ada 3, yaitu:\n",
    "\n",
    "- Umur kurang\n",
    "$$ Umur Kurang(x)=\n",
    "\\begin{cases}\n",
    "    0, & \\text{$x\\leq 2$ atau $x\\geq6$}.\\\\\n",
    "    (x - 2)/(4 - 6) , & \\text{$2 \\leq x \\leq 4$}.\\\\\n",
    "    (6 - x)/(6 - 4) , & \\text{$4\\leq x \\leq 6$ }.\\\\\n",
    "  \\end{cases}\n",
    "$$\n",
    "\n",
    "- umur cukup \n",
    "$$ Umur Cukup(x)=\n",
    "\\begin{cases}\n",
    "    0, & \\text{$x\\leq 4$ atau $x\\geq8$}.\\\\\n",
    "    (x - 4)/(6 - 4) , & \\text{$4 \\leq x \\leq 6$}.\\\\\n",
    "    (8 - x)/(8 - 6) , & \\text{$6 \\leq x \\leq 8$}.\\\\\n",
    "  \\end{cases}\n",
    "$$\n",
    " \n",
    "- umur Lebih\n",
    "$$ Umur Lebih(x)=\n",
    "\\begin{cases}\n",
    "    0, & \\text{$x\\leq 6$ atau $x\\geq10$}.\\\\\n",
    "    (x - 6)/(8 - 6) , & \\text{$6 \\leq x \\leq 8$}.\\\\\n",
    "    (10 - x)/(10 - 8) , & \\text{$8 \\leq x \\leq 10$}.\\\\\n",
    "  \\end{cases}\n",
    "$$\n",
    "\n",
    "b. Nilai Linguistik pada Variabel Nilai ada 3, yaitu:\n",
    "\n",
    "- Nilai kurang \n",
    "$$ Nilai Kurang(x)=\n",
    "\\begin{cases}\n",
    "    0, & \\text{$x\\leq 20$ atau $x \\geq60$}.\\\\\n",
    "    \\left.(x - 20) \\,  \\right/(40 - 20) , & \\text{$20 \\leq x \\leq 40$}.\\\\\n",
    "    \\left.(60 - x) \\,  \\right/(60 - 40) , & \\text{$40 \\leq x \\leq 60$}.\\\\\n",
    "  \\end{cases}\n",
    "$$\n",
    "\n",
    "- Nilai cukup\n",
    "$$ Nilai Cukup(x)=\n",
    "\\begin{cases}\n",
    "    0, & \\text{$x\\leq 40$ atau $x\\geq80$}.\\\\\n",
    "    \\left.(x - 40)\\, \\right/(60 - 40) , & \\text{$40 \\leq x \\leq 60$}.\\\\\n",
    "    \\left.(80 - x)\\, \\right/(80 - 60) , & \\text{$60 \\leq x \\leq 80$}.\\\\\n",
    "  \\end{cases}\n",
    "$$\n",
    "\n",
    "- Nilai Bagus\n",
    "$$ Nilai Bagus(x)=\n",
    "\\begin{cases}\n",
    "    0, & \\text{$x\\leq 60$ atau $x\\geq100$}.\\\\\n",
    "    \\left.(x - 60) \\,  \\right/(80 - 60) , & \\text{$60 \\leq x \\leq 80$}.\\\\\n",
    "    \\left.(100 - x)\\, \\right/(100 - 80) , & \\text{$80 \\leq x \\leq 100$}.\\\\\n",
    "  \\end{cases}\n",
    "$$"
   ]
  },
  {
   "cell_type": "markdown",
   "metadata": {},
   "source": [
    "## Generate fuzzy membership functions\n",
    "\n",
    "Menentukan fungsi keanggotaan artinya mendefinisikan himpunan fuzzy dengan memetakan masukan crisp dari domainnya, ke derajat keanggotaan."
   ]
  },
  {
   "cell_type": "code",
   "execution_count": 10,
   "metadata": {},
   "outputs": [],
   "source": [
    "umur['kurang'] = fuzz.trimf(umur.universe,[2,4,6])\n",
    "umur['cukup'] = fuzz.trimf(umur.universe,[4,6,8])\n",
    "umur['lebih'] = fuzz.trimf(umur.universe,[6,8,10])\n",
    "\n",
    "nilai['kurang'] = fuzz.trimf(nilai.universe,[20,40,60])\n",
    "nilai['cukup'] = fuzz.trimf(nilai.universe,[40,60,80])\n",
    "nilai['bagus'] = fuzz.trimf(nilai.universe,[60,80,100])\n",
    "\n",
    "kelas['biasa'] = fuzz.trimf(kelas.universe,[0,30,60])\n",
    "kelas['khusus'] = fuzz.trimf(kelas.universe,[20,70,100])"
   ]
  },
  {
   "cell_type": "markdown",
   "metadata": {},
   "source": [
    "### Menampilkan Grafik Fungsi Keanggotaan"
   ]
  },
  {
   "cell_type": "code",
   "execution_count": 11,
   "metadata": {},
   "outputs": [
    {
     "name": "stderr",
     "output_type": "stream",
     "text": [
      "C:\\ProgramData\\Anaconda3\\lib\\site-packages\\matplotlib\\figure.py:459: UserWarning: matplotlib is currently using a non-GUI backend, so cannot show the figure\n",
      "  \"matplotlib is currently using a non-GUI backend, \"\n"
     ]
    },
    {
     "data": {
      "image/png": "[encoded data removed]",
      "text/plain": [
       "<Figure size 432x288 with 1 Axes>"
      ]
     },
     "metadata": {},
     "output_type": "display_data"
    }
   ],
   "source": [
    "umur.view()"
   ]
  },
  {
   "cell_type": "code",
   "execution_count": 12,
   "metadata": {},
   "outputs": [
    {
     "name": "stderr",
     "output_type": "stream",
     "text": [
      "C:\\ProgramData\\Anaconda3\\lib\\site-packages\\matplotlib\\figure.py:459: UserWarning: matplotlib is currently using a non-GUI backend, so cannot show the figure\n",
      "  \"matplotlib is currently using a non-GUI backend, \"\n"
     ]
    },
    {
     "data": {
      "image/png": "[encoded data removed]",
      "text/plain": [
       "<Figure size 432x288 with 1 Axes>"
      ]
     },
     "metadata": {},
     "output_type": "display_data"
    }
   ],
   "source": [
    "nilai.view()"
   ]
  },
  {
   "cell_type": "code",
   "execution_count": 13,
   "metadata": {},
   "outputs": [
    {
     "name": "stderr",
     "output_type": "stream",
     "text": [
      "C:\\ProgramData\\Anaconda3\\lib\\site-packages\\matplotlib\\figure.py:459: UserWarning: matplotlib is currently using a non-GUI backend, so cannot show the figure\n",
      "  \"matplotlib is currently using a non-GUI backend, \"\n"
     ]
    },
    {
     "data": {
      "image/png": "[encoded data removed]",
      "text/plain": [
       "<Figure size 432x288 with 1 Axes>"
      ]
     },
     "metadata": {},
     "output_type": "display_data"
    }
   ],
   "source": [
    "kelas[\"biasa\"].view()"
   ]
  },
  {
   "cell_type": "markdown",
   "metadata": {},
   "source": [
    "## Rule Base"
   ]
  },
  {
   "cell_type": "code",
   "execution_count": 14,
   "metadata": {},
   "outputs": [],
   "source": [
    "rule1 = ctrl.Rule(umur['kurang']& nilai['bagus'], kelas['biasa'])\n",
    "rule2 = ctrl.Rule(umur['kurang']& nilai['cukup'], kelas['biasa'])\n",
    "rule3 = ctrl.Rule(umur['kurang']& nilai['kurang'], kelas['khusus'])\n",
    "rule4 = ctrl.Rule(umur['cukup']& nilai['bagus'], kelas['biasa'])\n",
    "rule5 = ctrl.Rule(umur['cukup']& nilai['cukup'], kelas['biasa'])\n",
    "rule6 = ctrl.Rule(umur['cukup']& nilai['kurang'], kelas['khusus'])\n",
    "rule7 = ctrl.Rule(umur['lebih']& nilai['bagus'], kelas['biasa'])\n",
    "rule8 = ctrl.Rule(umur['lebih']& nilai['cukup'], kelas['biasa'])\n",
    "rule9 = ctrl.Rule(umur['lebih']& nilai['kurang'], kelas['khusus'])"
   ]
  },
  {
   "cell_type": "code",
   "execution_count": 15,
   "metadata": {},
   "outputs": [
    {
     "data": {
      "text/plain": [
       "(<Figure size 432x288 with 1 Axes>,\n",
       " <matplotlib.axes._subplots.AxesSubplot at 0x25071bb7898>)"
      ]
     },
     "execution_count": 15,
     "metadata": {},
     "output_type": "execute_result"
    },
    {
     "data": {
      "image/png": "[encoded data removed]",
      "text/plain": [
       "<Figure size 432x288 with 1 Axes>"
      ]
     },
     "metadata": {},
     "output_type": "display_data"
    }
   ],
   "source": [
    "rule1.view()"
   ]
  },
  {
   "cell_type": "markdown",
   "metadata": {},
   "source": [
    "# DEFUZZIFIKASI"
   ]
  },
  {
   "cell_type": "markdown",
   "metadata": {},
   "source": [
    "Menggunakan mode simulasi"
   ]
  },
  {
   "cell_type": "code",
   "execution_count": 16,
   "metadata": {},
   "outputs": [],
   "source": [
    "simulasi_kelas = ctrl.ControlSystem([rule1, rule2, rule3, rule4, rule5, rule6, rule7, rule8, rule9])\n",
    "prediksi_kelas = ctrl.ControlSystemSimulation(simulasi_kelas)"
   ]
  },
  {
   "cell_type": "markdown",
   "metadata": {},
   "source": [
    "### Simulasi dengan memasukan nilai pada variabel input"
   ]
  },
  {
   "cell_type": "code",
   "execution_count": 17,
   "metadata": {},
   "outputs": [],
   "source": [
    "prediksi_kelas.input['umur'] = 5\n",
    "prediksi_kelas.input['nilai'] = 60"
   ]
  },
  {
   "cell_type": "markdown",
   "metadata": {},
   "source": [
    "Karena di atas kita sudah melakukan proses fuzzyfikasi, selanjutnya kita akan cocokkan dengan perhitungan manualnya"
   ]
  },
  {
   "cell_type": "code",
   "execution_count": 18,
   "metadata": {},
   "outputs": [
    {
     "name": "stdout",
     "output_type": "stream",
     "text": [
      "Perhitungan hasil komputasi = 30.000\n"
     ]
    }
   ],
   "source": [
    "prediksi_akhir = prediksi_kelas.compute()\n",
    "prediksi_akhir = prediksi_kelas.output['kelas']\n",
    "print (\"Perhitungan hasil komputasi = %.3f\" % prediksi_akhir)"
   ]
  },
  {
   "cell_type": "markdown",
   "metadata": {},
   "source": [
    "### Menampilkan grafik hasil Inferensi dan Defuzzyfikasi\n"
   ]
  },
  {
   "cell_type": "code",
   "execution_count": 19,
   "metadata": {},
   "outputs": [
    {
     "name": "stderr",
     "output_type": "stream",
     "text": [
      "C:\\ProgramData\\Anaconda3\\lib\\site-packages\\matplotlib\\figure.py:459: UserWarning: matplotlib is currently using a non-GUI backend, so cannot show the figure\n",
      "  \"matplotlib is currently using a non-GUI backend, \"\n"
     ]
    },
    {
     "data": {
      "image/png": "[encoded data removed]",
      "text/plain": [
       "<Figure size 432x288 with 1 Axes>"
      ]
     },
     "metadata": {},
     "output_type": "display_data"
    }
   ],
   "source": [
    "kelas.view(sim = prediksi_kelas)"
   ]
  },
  {
   "cell_type": "markdown",
   "metadata": {},
   "source": [
    "# Perhitungan Manual"
   ]
  },
  {
   "cell_type": "markdown",
   "metadata": {},
   "source": [
    "\\begin{equation}\n",
    "    Umur = 5 \\\\\n",
    "    Masukkan\\,nilai\\,umur\\,ke\\,dalam\\,masing-masing\\,fungsi\\,keanggotaan\\,umur\\\\\n",
    "  umur['kurang'] = \\mu UmurKurang(x)=\\begin{cases}\n",
    "    0, & \\text{$x\\leq 2$ atau $x\\geq6$}.\\\\\n",
    "    (x - 2)/(4 - 6) , & \\text{$2 \\leq x \\leq 4$}.\\\\\n",
    "    (6 - x)/(6 - 4) , & \\text{$4\\leq x \\leq 6$ }.\\\\\n",
    "  \\end{cases}\n",
    "  \\\\\n",
    "  umur['cukup'] = \\mu UmurCukup(x)=\\begin{cases}\n",
    "    0, & \\text{$x\\leq 4$ atau $x\\geq8$}.\\\\\n",
    "    (x - 4)/(6 - 4) , & \\text{$4 \\leq x \\leq 6$}.\\\\\n",
    "    (8 - x)/(8 - 6) , & \\text{$6 \\leq x \\leq 8$}.\\\\\n",
    "  \\end{cases}\n",
    "  \\\\\n",
    "    umur ['lebih'] = \\mu UmurLebih(x)=\\begin{cases}\n",
    "    0, & \\text{$x\\leq 6$ atau $x\\geq10$}.\\\\\n",
    "    (x - 6)/(8 - 6) , & \\text{$6 \\leq x \\leq 8$}.\\\\\n",
    "    (10 - x)/(10 - 8) , & \\text{$8 \\leq x \\leq 10$}.\\\\\n",
    "  \\end{cases}\n",
    "\\end{equation}\n",
    "\n"
   ]
  },
  {
   "cell_type": "markdown",
   "metadata": {},
   "source": [
    "\\begin{equation}\n",
    "    \\mu UmurKurang(5) = (6 - 5) / (6 - 4) \\\\\n",
    "    \\mu UmurKurang(5) = 1/2 \\\\ \n",
    "    \\mu UmurKurang(5) = 0.5 \\\\\n",
    "    \\mu UmurCukup(5) = (5 - 4) / (6-4) \\\\\n",
    "    \\mu UmurCukup(5) = 1/2 \\\\\n",
    "    \\mu UmurCukup(5) = 0.5 \\\\\n",
    "\\end{equation}"
   ]
  },
  {
   "cell_type": "markdown",
   "metadata": {},
   "source": [
    "\\begin{equation}\n",
    "   Nilai = 60 \\\\\n",
    "  Nilai['kurang'] = \\mu NilaiKurang(x)=\\begin{cases}\n",
    "    0, & \\text{$x\\leq 20$ atau $x \\geq60$}.\\\\ \n",
    "    \\left.(x - 20) \\,  \\right/(40 - 20) , & \\text{$20 \\leq x \\leq 40$}.\\\\\n",
    "    \\left.(60 - x) \\,  \\right/(60 - 40) , & \\text{$40 \\leq x \\leq 60$}.\\\\\n",
    "  \\end{cases}\n",
    "  \\\\\n",
    "    Nilai['cukup'] = \\mu NilaiCukup(x)=\\begin{cases}\n",
    "    0, & \\text{$x\\leq 40$ atau $x\\geq80$}.\\\\\n",
    "    \\left.(x - 40)\\, \\right/(60 - 40) , & \\text{$40 \\leq x \\leq 60$}.\\\\\n",
    "    \\left.(80 - x)\\, \\right/(80 - 60) , & \\text{$60 \\leq x \\leq 80$}.\\\\\n",
    "  \\end{cases}\n",
    "  \\\\\n",
    "  Nilai['Bagus'] = \\mu NilaiBagus(x)=\\begin{cases}\n",
    "    0, & \\text{$x\\leq 60$ atau $x\\geq100$}.\\\\\n",
    "    \\left.(x - 60) \\,  \\right/(80 - 60) , & \\text{$60 \\leq x \\leq 80$}.\\\\\n",
    "    \\left.(100 - x)\\, \\right/(100 - 80) , & \\text{$80 \\leq x \\leq 100$}.\\\\\n",
    "  \\end{cases}\n",
    "\\end{equation}"
   ]
  },
  {
   "cell_type": "markdown",
   "metadata": {},
   "source": [
    "\\begin{equation}\n",
    " \\mu NilaiCukup(x) = 1\n",
    "\\end{equation}"
   ]
  },
  {
   "cell_type": "markdown",
   "metadata": {},
   "source": [
    "## Hasil defuzzifikasi dari python diatas"
   ]
  },
  {
   "attachments": {
    "a.png": {
     "image/png": "[encoded data removed]"
    }
   },
   "cell_type": "markdown",
   "metadata": {},
   "source": [
    "![a.png](attachment:a.png)"
   ]
  },
  {
   "cell_type": "markdown",
   "metadata": {},
   "source": [
    "## Perhitungan"
   ]
  },
  {
   "cell_type": "markdown",
   "metadata": {},
   "source": [
    "Mencari nilai a dan b"
   ]
  },
  {
   "cell_type": "markdown",
   "metadata": {},
   "source": [
    "$$\n",
    "0,5 = \\frac{a - 0}{30 - 0}\n",
    "$$"
   ]
  },
  {
   "cell_type": "markdown",
   "metadata": {},
   "source": [
    "$$\n",
    "0,5 x 30 = a\n",
    "$$"
   ]
  },
  {
   "cell_type": "markdown",
   "metadata": {},
   "source": [
    "$$\n",
    "a = 15\n",
    "$$"
   ]
  },
  {
   "cell_type": "markdown",
   "metadata": {},
   "source": [
    "$$\n",
    "0,5 = \\frac{60 - b}{60 - 30}\n",
    "$$"
   ]
  },
  {
   "cell_type": "markdown",
   "metadata": {},
   "source": [
    "$$\n",
    "0,5x30 = 60 - b\n",
    "$$"
   ]
  },
  {
   "cell_type": "markdown",
   "metadata": {},
   "source": [
    "$$\n",
    "b = 45\n",
    "$$"
   ]
  },
  {
   "cell_type": "markdown",
   "metadata": {},
   "source": [
    "Menghitung X1 X2 dan X3"
   ]
  },
  {
   "cell_type": "markdown",
   "metadata": {},
   "source": [
    "- X1"
   ]
  },
  {
   "cell_type": "markdown",
   "metadata": {},
   "source": [
    "$$\n",
    "X1 = \\frac{2 x (15-0)}{3}  \n",
    "$$"
   ]
  },
  {
   "cell_type": "markdown",
   "metadata": {},
   "source": [
    "$$\n",
    "= 10\n",
    "$$"
   ]
  },
  {
   "cell_type": "markdown",
   "metadata": {},
   "source": [
    "- X2"
   ]
  },
  {
   "cell_type": "markdown",
   "metadata": {},
   "source": [
    "$$\n",
    "X2 = \\frac{(15+45)}{2}  \n",
    "$$"
   ]
  },
  {
   "cell_type": "markdown",
   "metadata": {},
   "source": [
    "$$\n",
    "= 30\n",
    "$$"
   ]
  },
  {
   "cell_type": "markdown",
   "metadata": {},
   "source": [
    "- X3"
   ]
  },
  {
   "cell_type": "markdown",
   "metadata": {},
   "source": [
    "$$\n",
    "X3 = 45 + \\frac{(45 - 15)}{3}  \n",
    "$$"
   ]
  },
  {
   "cell_type": "markdown",
   "metadata": {},
   "source": [
    "$$\n",
    "= 45 + 10\n",
    "$$"
   ]
  },
  {
   "cell_type": "markdown",
   "metadata": {},
   "source": [
    "$$\n",
    "= 55\n",
    "$$"
   ]
  },
  {
   "cell_type": "markdown",
   "metadata": {},
   "source": [
    "Menghitung luas area (A)"
   ]
  },
  {
   "cell_type": "markdown",
   "metadata": {},
   "source": [
    "- A1"
   ]
  },
  {
   "cell_type": "markdown",
   "metadata": {},
   "source": [
    "$$\n",
    "A1 = \\frac{(15 - 0) x 0.5}{2}  \n",
    "$$"
   ]
  },
  {
   "cell_type": "markdown",
   "metadata": {},
   "source": [
    "$$\n",
    "= 3.75\n",
    "$$"
   ]
  },
  {
   "cell_type": "markdown",
   "metadata": {},
   "source": [
    "- A2"
   ]
  },
  {
   "cell_type": "markdown",
   "metadata": {},
   "source": [
    "$$\n",
    "A2 = (45 - 15) x 0.5  \n",
    "$$"
   ]
  },
  {
   "cell_type": "markdown",
   "metadata": {},
   "source": [
    "$$\n",
    "= 15\n",
    "$$"
   ]
  },
  {
   "cell_type": "markdown",
   "metadata": {},
   "source": [
    "- A3"
   ]
  },
  {
   "cell_type": "markdown",
   "metadata": {},
   "source": [
    "$$\n",
    "A3 = \\frac{(60 - 45) x 0.5}{2}  \n",
    "$$"
   ]
  },
  {
   "cell_type": "markdown",
   "metadata": {},
   "source": [
    "$$\n",
    "= 3.75\n",
    "$$"
   ]
  },
  {
   "cell_type": "markdown",
   "metadata": {},
   "source": [
    "Dari sini kita dapat mencari nilai defuzzifikasi, yaitu :"
   ]
  },
  {
   "cell_type": "markdown",
   "metadata": {},
   "source": [
    "$$\n",
    "Z^* = \\frac{(X1 x A1) + (X2 x A2) + (X3 x A3)}{A1 + A2 A3}\n",
    "$$"
   ]
  },
  {
   "cell_type": "markdown",
   "metadata": {},
   "source": [
    "$$\n",
    "= \\frac{(10 x 3.75) + (30 x 15) + (55 x 3.75)}{3.75 + 15 + 3.75}\n",
    "$$"
   ]
  },
  {
   "cell_type": "markdown",
   "metadata": {},
   "source": [
    "$$\n",
    "= \\frac{37.5 + 450 + 206.25}{22.5}\n",
    "$$"
   ]
  },
  {
   "cell_type": "markdown",
   "metadata": {},
   "source": [
    "$$\n",
    "= 30.83333\n",
    "$$"
   ]
  },
  {
   "cell_type": "markdown",
   "metadata": {},
   "source": [
    "Hasil output yang dikeluarkan menggunakan code python sebesar 30.00 sedangkan perhitungan manual sebesar 30,833 .\n",
    "Terdapat perbedaan sebesar 0.833 detik"
   ]
  },
  {
   "cell_type": "code",
   "execution_count": null,
   "metadata": {},
   "outputs": [],
   "source": []
  }
 ],
 "metadata": {
  "kernelspec": {
   "display_name": "Python 3",
   "language": "python",
   "name": "python3"
  },
  "language_info": {
   "codemirror_mode": {
    "name": "ipython",
    "version": 3
   },
   "file_extension": ".py",
   "mimetype": "text/x-python",
   "name": "python",
   "nbconvert_exporter": "python",
   "pygments_lexer": "ipython3",
   "version": "3.6.5"
  }
 },
 "nbformat": 4,
 "nbformat_minor": 2
}
